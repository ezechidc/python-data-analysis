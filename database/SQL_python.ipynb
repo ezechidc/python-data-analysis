{
 "cells": [
  {
   "cell_type": "markdown",
   "metadata": {},
   "source": [
    "# This project demonstrate how to use SQL with python.\n",
    "In the project am going to demonstrate how to use python and SQL to query, update, and modify the data in an sqlite3 database. The data set used for this project can be found [here](https://github.com/fivethirtyeight/data/tree/master/college-majors).Here are the descriptions for the columns in the preview:\n",
    "\n",
    " - Rank - The major's rank by median earnings\n",
    " - Major_code - The major's code or ID\n",
    " - Major - The name of the major\n",
    " - Major_category - The broader category the major belongs to\n",
    " - Total - The total number of people who studied the major\n",
    " - Sample_size - The sample size (unweighted) of graduates with full time jobs\n",
    " - Men - The number of male graduates\n",
    " - Women - The number of female graduates\n",
    " - ShareWomen - Women as a proportion of the total number of graduates\n",
    " - Employed - The number of employed graduates"
   ]
  },
  {
   "cell_type": "markdown",
   "metadata": {},
   "source": [
    "# SQL SELECT syntax\n",
    "The SELECT syntax statement can be written as:\n",
    "\n",
    "SELECT [column1, column2, ...] FROM tableName;\n",
    "\n",
    "To use python to query the database using the above SELECT statement involves the following steps:\n",
    " - import the python database drive for the database you are using,\n",
    " - Connect to the database using [connect() function](https://docs.python.org/3/library/sqlite3.html#sqlite3.connect)\n",
    " - Use [Cursor class](https://docs.python.org/3/library/sqlite3.html#cursor-objects) to:\n",
    "     -  Run a query against the database\n",
    "     - Parse the results from the database\n",
    "     - Convert the results to native Python objects\n",
    "     - Store the results within the Cursor instance as a local variable\n",
    "\n",
    "After running a query and converting the results to a list of tuples, the Cursor instance stores the list as a local variable. This can be done as shown below.\n"
   ]
  },
  {
   "cell_type": "code",
   "execution_count": 5,
   "metadata": {},
   "outputs": [
    {
     "name": "stdout",
     "output_type": "stream",
     "text": [
      "[(1, 'PETROLEUM ENGINEERING'), (2, 'MINING AND MINERAL ENGINEERING'), (3, 'METALLURGICAL ENGINEERING'), (4, 'NAVAL ARCHITECTURE AND MARINE ENGINEERING'), (5, 'CHEMICAL ENGINEERING'), (6, 'NUCLEAR ENGINEERING'), (7, 'ACTUARIAL SCIENCE'), (8, 'ASTRONOMY AND ASTROPHYSICS'), (9, 'MECHANICAL ENGINEERING'), (10, 'ELECTRICAL ENGINEERING'), (11, 'COMPUTER ENGINEERING'), (12, 'AEROSPACE ENGINEERING'), (13, 'BIOMEDICAL ENGINEERING'), (14, 'MATERIALS SCIENCE'), (15, 'ENGINEERING MECHANICS PHYSICS AND SCIENCE'), (16, 'BIOLOGICAL ENGINEERING'), (17, 'INDUSTRIAL AND MANUFACTURING ENGINEERING'), (18, 'GENERAL ENGINEERING'), (19, 'ARCHITECTURAL ENGINEERING'), (20, 'COURT REPORTING')]\n"
     ]
    }
   ],
   "source": [
    "import sqlite3\n",
    "\n",
    "conn = sqlite3.connect(\"jobs.db\")\n",
    "cursor = conn.cursor()\n",
    "query1 = \"SELECT Rank, Major FROM recent_grads\"\n",
    "cursor.execute(query1)\n",
    "data = cursor.fetchall()\n",
    "print(data[0:20])"
   ]
  },
  {
   "cell_type": "markdown",
   "metadata": {},
   "source": [
    "So far, we've been running queries by creating a Cursor instance, and then calling the execute method on the instance. The SQLite library actually allows us to skip creating a Cursor altogether by using the execute method within the Connection object itself. SQLite will create a Cursor instance for us under the hood and our query run against the database, but this shortcut allows us to skip a step. Here's what the code looks like:"
   ]
  },
  {
   "cell_type": "code",
   "execution_count": 7,
   "metadata": {},
   "outputs": [
    {
     "name": "stdout",
     "output_type": "stream",
     "text": [
      "[(0, 1, 2419, 'PETROLEUM ENGINEERING', 'Engineering', 2339, 36, 2057, 282, 0.120564344, 1976, 1849, 270, 1207, 37, 0.018380527, 110000, 95000, 125000, 1534, 364, 193), (1, 2, 2416, 'MINING AND MINERAL ENGINEERING', 'Engineering', 756, 7, 679, 77, 0.10185185199999999, 640, 556, 170, 388, 85, 0.117241379, 75000, 55000, 90000, 350, 257, 50), (2, 3, 2415, 'METALLURGICAL ENGINEERING', 'Engineering', 856, 3, 725, 131, 0.153037383, 648, 558, 133, 340, 16, 0.024096386, 73000, 50000, 105000, 456, 176, 0), (3, 4, 2417, 'NAVAL ARCHITECTURE AND MARINE ENGINEERING', 'Engineering', 1258, 16, 1123, 135, 0.107313196, 758, 1069, 150, 692, 40, 0.050125313, 70000, 43000, 80000, 529, 102, 0), (4, 5, 2405, 'CHEMICAL ENGINEERING', 'Engineering', 32260, 289, 21239, 11021, 0.341630502, 25694, 23170, 5180, 16697, 1672, 0.061097712, 65000, 50000, 75000, 18314, 4440, 972)]\n"
     ]
    }
   ],
   "source": [
    "conn = sqlite3.connect(\"jobs.db\")\n",
    "query = \"select * from recent_grads;\"\n",
    "data = conn.execute(query).fetchall()\n",
    "print(data[0:5])"
   ]
  },
  {
   "cell_type": "markdown",
   "metadata": {},
   "source": [
    "# Cursor\n",
    "To make it easier to work with large results sets, the Cursor class allows us to control the number of results we want to retrieve at any given time. To return a single result (as a tuple), we use the Cursor method fetchone(). To return n results, we use the Cursor method fetchmany() as shown below."
   ]
  },
  {
   "cell_type": "code",
   "execution_count": 8,
   "metadata": {},
   "outputs": [
    {
     "data": {
      "text/plain": [
       "[('PETROLEUM ENGINEERING', 'Engineering'),\n",
       " ('MINING AND MINERAL ENGINEERING', 'Engineering'),\n",
       " ('METALLURGICAL ENGINEERING', 'Engineering'),\n",
       " ('NAVAL ARCHITECTURE AND MARINE ENGINEERING', 'Engineering'),\n",
       " ('CHEMICAL ENGINEERING', 'Engineering')]"
      ]
     },
     "execution_count": 8,
     "metadata": {},
     "output_type": "execute_result"
    }
   ],
   "source": [
    "query = \"SELECT Major,Major_category FROM recent_grads\"\n",
    "five_results = conn.execute(query).fetchmany(5)\n",
    "five_results"
   ]
  },
  {
   "cell_type": "markdown",
   "metadata": {},
   "source": [
    "# Close()\n",
    "To close a connection to a database, use the Connection instance method close(). After closing the connection, attempting to query the database using any linked Cursor instances will return the following error as shown below:"
   ]
  },
  {
   "cell_type": "code",
   "execution_count": 10,
   "metadata": {},
   "outputs": [
    {
     "ename": "ProgrammingError",
     "evalue": "Cannot operate on a closed database.",
     "output_type": "error",
     "traceback": [
      "\u001b[0;31m---------------------------------------------------------------------------\u001b[0m",
      "\u001b[0;31mProgrammingError\u001b[0m                          Traceback (most recent call last)",
      "\u001b[0;32m<ipython-input-10-c64e8d61d374>\u001b[0m in \u001b[0;36m<module>\u001b[0;34m()\u001b[0m\n\u001b[1;32m      1\u001b[0m \u001b[0mconn\u001b[0m\u001b[0;34m.\u001b[0m\u001b[0mclose\u001b[0m\u001b[0;34m(\u001b[0m\u001b[0;34m)\u001b[0m\u001b[0;34m\u001b[0m\u001b[0m\n\u001b[0;32m----> 2\u001b[0;31m \u001b[0mdata\u001b[0m \u001b[0;34m=\u001b[0m \u001b[0mconn\u001b[0m\u001b[0;34m.\u001b[0m\u001b[0mexecute\u001b[0m\u001b[0;34m(\u001b[0m\u001b[0mquery\u001b[0m\u001b[0;34m)\u001b[0m\u001b[0;34m.\u001b[0m\u001b[0mfetchall\u001b[0m\u001b[0;34m(\u001b[0m\u001b[0;34m)\u001b[0m\u001b[0;34m\u001b[0m\u001b[0m\n\u001b[0m",
      "\u001b[0;31mProgrammingError\u001b[0m: Cannot operate on a closed database."
     ]
    }
   ],
   "source": [
    "conn.close()\n",
    "data = conn.execute(query).fetchall()"
   ]
  },
  {
   "cell_type": "markdown",
   "metadata": {},
   "source": [
    "# WHERE Clause\n",
    "To filter rows by specific criteria, we need to use the WHERE statement.\n",
    "The WHERE statement requires three things:\n",
    "\n",
    " - The column we want the database to filter on\n",
    " - A comparison operator that specifies how we want to compare a value in a column\n",
    " - The value we want the database to compare each value to.\n",
    "\n",
    "Here are the comparison operators we can use:\n",
    "\n",
    " - Less than: <\n",
    " - Less than or equal to: <=\n",
    " - Greater than: >\n",
    " - Greater than or equal to: >=\n",
    " - Equal to: =\n",
    " - Not equal to: !=\n",
    "To domonstrate WHERE clause the query below is used to fetch Major,Major_category  in the recent_grads table where shareWomen is greater than 50%"
   ]
  },
  {
   "cell_type": "code",
   "execution_count": 16,
   "metadata": {},
   "outputs": [
    {
     "data": {
      "text/plain": [
       "[('ACTUARIAL SCIENCE', 'Business'),\n",
       " ('COMPUTER SCIENCE', 'Computers & Mathematics'),\n",
       " ('ENVIRONMENTAL ENGINEERING', 'Engineering'),\n",
       " ('NURSING', 'Health'),\n",
       " ('INDUSTRIAL PRODUCTION TECHNOLOGIES', 'Engineering'),\n",
       " ('COMPUTER AND INFORMATION SYSTEMS', 'Computers & Mathematics'),\n",
       " ('INFORMATION SCIENCES', 'Computers & Mathematics'),\n",
       " ('APPLIED MATHEMATICS', 'Computers & Mathematics'),\n",
       " ('PHARMACOLOGY', 'Biology & Life Science'),\n",
       " ('OCEANOGRAPHY', 'Physical Sciences')]"
      ]
     },
     "execution_count": 16,
     "metadata": {},
     "output_type": "execute_result"
    }
   ],
   "source": [
    "conn = sqlite3.connect(\"jobs.db\")\n",
    "data = conn.execute(\"SELECT Major,Major_category  FROM recent_grads WHERE ShareWomen > 0.5;\").fetchall()\n",
    "data[0:10]"
   ]
  },
  {
   "cell_type": "markdown",
   "metadata": {},
   "source": [
    "# LIMIT\n",
    "Many queries return a large number of results, which can be cumbersome to work with. SQL comes with a statement called LIMIT that allows us to specify how many results we'd like the database to return as an integer value. LIMIT can be used to get 10 result from the query above as shown below without the need for subsetting while displaying the results."
   ]
  },
  {
   "cell_type": "code",
   "execution_count": 17,
   "metadata": {},
   "outputs": [
    {
     "data": {
      "text/plain": [
       "[('ACTUARIAL SCIENCE', 'Business'),\n",
       " ('COMPUTER SCIENCE', 'Computers & Mathematics'),\n",
       " ('ENVIRONMENTAL ENGINEERING', 'Engineering'),\n",
       " ('NURSING', 'Health'),\n",
       " ('INDUSTRIAL PRODUCTION TECHNOLOGIES', 'Engineering'),\n",
       " ('COMPUTER AND INFORMATION SYSTEMS', 'Computers & Mathematics'),\n",
       " ('INFORMATION SCIENCES', 'Computers & Mathematics'),\n",
       " ('APPLIED MATHEMATICS', 'Computers & Mathematics'),\n",
       " ('PHARMACOLOGY', 'Biology & Life Science'),\n",
       " ('OCEANOGRAPHY', 'Physical Sciences')]"
      ]
     },
     "execution_count": 17,
     "metadata": {},
     "output_type": "execute_result"
    }
   ],
   "source": [
    "data = conn.execute(\"SELECT Major,Major_category  FROM recent_grads WHERE ShareWomen > 0.5 LIMIT 10\").fetchall()\n",
    "data"
   ]
  },
  {
   "cell_type": "markdown",
   "metadata": {},
   "source": [
    "# Logical operators\n",
    "Logical operators are keywords we can use to combine filtering criteria and express more specific conditions. Here are the two basic logical operators we use most often:\n",
    "\n",
    " - OR (returns either Condition1 or Condition2)\n",
    " - AND (returns both Condition1 and Condition2)\n",
    " \n",
    "The Logical operators are used in the WHERE Clause. The AND syntax is shown below:\n",
    "\n",
    "SELECT [column1, column2,...] FROM [table1]\n",
    "WHERE [condition1] AND [condition2]\n",
    "\n"
   ]
  },
  {
   "cell_type": "code",
   "execution_count": 23,
   "metadata": {},
   "outputs": [
    {
     "data": {
      "text/plain": [
       "[('COMPUTER SCIENCE', 0.578766338, 102087),\n",
       " ('NURSING', 0.896018988, 180903),\n",
       " ('COMPUTER AND INFORMATION SYSTEMS', 0.7077185020000001, 28459),\n",
       " ('INTERNATIONAL RELATIONS', 0.632986838, 21190),\n",
       " ('AGRICULTURE PRODUCTION AND MANAGEMENT', 0.59420765, 12323),\n",
       " ('CHEMISTRY', 0.5051405379999999, 48535),\n",
       " ('BUSINESS MANAGEMENT AND ADMINISTRATION', 0.580948004, 276234),\n",
       " ('BIOCHEMICAL SCIENCES', 0.515406449, 25678),\n",
       " ('HUMAN RESOURCES AND PERSONNEL MANAGEMENT', 0.672161443, 20760),\n",
       " ('MISCELLANEOUS HEALTH MEDICAL PROFESSIONS', 0.702020202, 10076)]"
      ]
     },
     "execution_count": 23,
     "metadata": {},
     "output_type": "execute_result"
    }
   ],
   "source": [
    "# AND\n",
    "data = conn.execute('''\n",
    "           SELECT Major,ShareWomen,Employed FROM recent_grads \n",
    "           WHERE ShareWomen > 0.5 AND Employed>10000 \n",
    "           LIMIT 10''').fetchall()\n",
    "data"
   ]
  },
  {
   "cell_type": "code",
   "execution_count": 24,
   "metadata": {},
   "outputs": [
    {
     "data": {
      "text/plain": [
       "[('PETROLEUM ENGINEERING', 110000, 37),\n",
       " ('MINING AND MINERAL ENGINEERING', 75000, 85),\n",
       " ('METALLURGICAL ENGINEERING', 73000, 16),\n",
       " ('NAVAL ARCHITECTURE AND MARINE ENGINEERING', 70000, 40),\n",
       " ('CHEMICAL ENGINEERING', 65000, 1672),\n",
       " ('NUCLEAR ENGINEERING', 65000, 400),\n",
       " ('ACTUARIAL SCIENCE', 62000, 308),\n",
       " ('ASTRONOMY AND ASTROPHYSICS', 62000, 33),\n",
       " ('MECHANICAL ENGINEERING', 60000, 4650),\n",
       " ('ELECTRICAL ENGINEERING', 60000, 3895),\n",
       " ('COMPUTER ENGINEERING', 60000, 2275),\n",
       " ('AEROSPACE ENGINEERING', 60000, 794),\n",
       " ('BIOMEDICAL ENGINEERING', 60000, 1019),\n",
       " ('MATERIALS SCIENCE', 60000, 78),\n",
       " ('ENGINEERING MECHANICS PHYSICS AND SCIENCE', 58000, 23),\n",
       " ('BIOLOGICAL ENGINEERING', 57100, 589),\n",
       " ('INDUSTRIAL AND MANUFACTURING ENGINEERING', 57000, 699),\n",
       " ('GENERAL ENGINEERING', 56000, 2859),\n",
       " ('ARCHITECTURAL ENGINEERING', 54000, 170),\n",
       " ('COURT REPORTING', 54000, 11)]"
      ]
     },
     "execution_count": 24,
     "metadata": {},
     "output_type": "execute_result"
    }
   ],
   "source": [
    "# OR\n",
    "data = conn.execute('''\n",
    "           SELECT Major,Median,Unemployed \n",
    "           FROM recent_grads\n",
    "           WHERE median >= 10000 OR Unemployed <=1000\n",
    "           LIMIT 20;''').fetchall()\n",
    "data"
   ]
  },
  {
   "cell_type": "markdown",
   "metadata": {},
   "source": [
    "# Complex logical operation\n",
    "Parenthese can be used to combine AND and OR operator in other to filter more complex query. For example assume  we want to  write a query that returned all Engineering majors that either had mostly female graduates or an unemployment rate below 5.1%, we would need to use parentheses to express this more complex logic. The three raw conditions we'll need are:\n",
    "\n",
    " - Major_category = 'Engineering'\n",
    " - ShareWomen >= 0.5\n",
    " - Unemployment_rate < 0.051\n",
    "\n",
    "The SQl to achieve this is shown below."
   ]
  },
  {
   "cell_type": "code",
   "execution_count": 25,
   "metadata": {},
   "outputs": [
    {
     "data": {
      "text/plain": [
       "[('PETROLEUM ENGINEERING', 'Engineering', 0.120564344, 0.018380527),\n",
       " ('METALLURGICAL ENGINEERING', 'Engineering', 0.153037383, 0.024096386),\n",
       " ('NAVAL ARCHITECTURE AND MARINE ENGINEERING',\n",
       "  'Engineering',\n",
       "  0.107313196,\n",
       "  0.050125313),\n",
       " ('MATERIALS SCIENCE', 'Engineering', 0.310820285, 0.023042836),\n",
       " ('ENGINEERING MECHANICS PHYSICS AND SCIENCE',\n",
       "  'Engineering',\n",
       "  0.183985189,\n",
       "  0.006334343),\n",
       " ('INDUSTRIAL AND MANUFACTURING ENGINEERING',\n",
       "  'Engineering',\n",
       "  0.34347321799999997,\n",
       "  0.042875544),\n",
       " ('MATERIALS ENGINEERING AND MATERIALS SCIENCE',\n",
       "  'Engineering',\n",
       "  0.292607004,\n",
       "  0.027788805),\n",
       " ('ENVIRONMENTAL ENGINEERING', 'Engineering', 0.558548009, 0.093588575),\n",
       " ('INDUSTRIAL PRODUCTION TECHNOLOGIES',\n",
       "  'Engineering',\n",
       "  0.75047259,\n",
       "  0.028308097),\n",
       " ('ENGINEERING AND INDUSTRIAL MANAGEMENT',\n",
       "  'Engineering',\n",
       "  0.174122505,\n",
       "  0.03365166)]"
      ]
     },
     "execution_count": 25,
     "metadata": {},
     "output_type": "execute_result"
    }
   ],
   "source": [
    "data = conn.execute('''\n",
    "           SELECT Major, Major_category, ShareWomen, Unemployment_rate\n",
    "           FROM recent_grads\n",
    "           WHERE (Major_category = 'Engineering') AND (ShareWomen > 0.5 OR Unemployment_rate < 0.051)''').fetchall()\n",
    "data"
   ]
  },
  {
   "cell_type": "markdown",
   "metadata": {},
   "source": [
    "# IN Operator\n",
    "The IN operation allows you to write a qury that fetch data that matches values in a given list.  It is used to help reduce the need for multiple OR conditions in a SELECT, INSERT, UPDATE, or DELETE statement. The syntax is as shown below:\n",
    "\n",
    "expression IN (value1, value2, .... value_n);\n",
    "\n",
    "Assume we want to  find all that meet all of the following criteria:\n",
    " - Major_category of Business or Arts or Health\n",
    " - Employed students greater than 20,000 or Unemployment_rate below 5.1%\n",
    "The IN operator can be used to avoid using multiply OR condition in the WHERE clause as shown below."
   ]
  },
  {
   "cell_type": "code",
   "execution_count": 26,
   "metadata": {},
   "outputs": [
    {
     "data": {
      "text/plain": [
       "[('OPERATIONS LOGISTICS AND E-COMMERCE',\n",
       "  'Business',\n",
       "  10027,\n",
       "  0.047858702999999995),\n",
       " ('NURSING', 'Health', 180903, 0.04486272400000001),\n",
       " ('FINANCE', 'Business', 145696, 0.060686356),\n",
       " ('ACCOUNTING', 'Business', 165527, 0.069749014),\n",
       " ('MEDICAL TECHNOLOGIES TECHNICIANS', 'Health', 13150, 0.03698279),\n",
       " ('MEDICAL ASSISTING SERVICES', 'Health', 9168, 0.042506527),\n",
       " ('GENERAL BUSINESS', 'Business', 190183, 0.072861468),\n",
       " ('BUSINESS MANAGEMENT AND ADMINISTRATION',\n",
       "  'Business',\n",
       "  276234,\n",
       "  0.07221834099999999),\n",
       " ('MARKETING AND MARKETING RESEARCH',\n",
       "  'Business',\n",
       "  178862,\n",
       "  0.061215064000000007),\n",
       " ('HUMAN RESOURCES AND PERSONNEL MANAGEMENT', 'Business', 20760, 0.059569649),\n",
       " ('COMMERCIAL ART AND GRAPHIC DESIGN', 'Arts', 83483, 0.096797577),\n",
       " ('TREATMENT THERAPY PROFESSIONS', 'Health', 37861, 0.059821207),\n",
       " ('HOSPITALITY MANAGEMENT', 'Business', 36728, 0.061169193),\n",
       " ('GENERAL MEDICAL AND HEALTH SERVICES', 'Health', 24406, 0.082101621),\n",
       " ('FILM VIDEO AND PHOTOGRAPHIC ARTS', 'Arts', 31433, 0.10577224),\n",
       " ('MUSIC', 'Arts', 47662, 0.075959674),\n",
       " ('FINE ARTS', 'Arts', 59679, 0.084186296),\n",
       " ('COMMUNICATION DISORDERS SCIENCES AND SERVICES',\n",
       "  'Health',\n",
       "  29763,\n",
       "  0.047583999999999994),\n",
       " ('DRAMA AND THEATER ARTS', 'Arts', 36165, 0.07754113)]"
      ]
     },
     "execution_count": 26,
     "metadata": {},
     "output_type": "execute_result"
    }
   ],
   "source": [
    "data = conn.execute('''\n",
    "           SELECT Major,Major_category,Employed,Unemployment_rate\n",
    "           FROM recent_grads\n",
    "           WHERE Major_category \n",
    "           IN ('Business', 'Arts', 'Health') AND (Employed > 20000 or Unemployment_rate < 0.051)''').fetchall()\n",
    "data"
   ]
  },
  {
   "cell_type": "markdown",
   "metadata": {},
   "source": [
    "# ORDER BY\n",
    "ORDER BY clause is used to sort the records in the result set for a SELECT statement. The syntax is shown below.\n",
    "\n",
    "SELECT expressions\n",
    "FROM tables\n",
    "[WHERE conditions]\n",
    "ORDER BY expression [ ASC | DESC ];\n",
    "\n",
    "ASC Optional. ASC sorts the result set in ascending order by expression. This is the default behavior, if no modifier is provider. \n",
    "DESC Optional. DESC sorts the result set in descending order by expression."
   ]
  },
  {
   "cell_type": "code",
   "execution_count": 28,
   "metadata": {},
   "outputs": [
    {
     "data": {
      "text/plain": [
       "[('ZOOLOGY',),\n",
       " ('VISUAL AND PERFORMING ARTS',),\n",
       " ('UNITED STATES HISTORY',),\n",
       " ('TREATMENT THERAPY PROFESSIONS',),\n",
       " ('TRANSPORTATION SCIENCES AND TECHNOLOGIES',),\n",
       " ('THEOLOGY AND RELIGIOUS VOCATIONS',),\n",
       " ('TEACHER EDUCATION: MULTIPLE LEVELS',),\n",
       " ('STUDIO ARTS',),\n",
       " ('STATISTICS AND DECISION SCIENCE',),\n",
       " ('SPECIAL NEEDS EDUCATION',)]"
      ]
     },
     "execution_count": 28,
     "metadata": {},
     "output_type": "execute_result"
    }
   ],
   "source": [
    "conn.execute('''\n",
    "    SELECT Major\n",
    "    FROM recent_grads\n",
    "    ORDER BY Major DESC \n",
    "    LIMIT 10''').fetchall()"
   ]
  },
  {
   "cell_type": "code",
   "execution_count": 29,
   "metadata": {},
   "outputs": [
    {
     "data": {
      "text/plain": [
       "[('Business', 45000, 'ACCOUNTING'),\n",
       " ('Business', 62000, 'ACTUARIAL SCIENCE'),\n",
       " ('Communications & Journalism', 35000, 'ADVERTISING AND PUBLIC RELATIONS'),\n",
       " ('Engineering', 60000, 'AEROSPACE ENGINEERING'),\n",
       " ('Agriculture & Natural Resources', 40000, 'AGRICULTURAL ECONOMICS'),\n",
       " ('Agriculture & Natural Resources',\n",
       "  40000,\n",
       "  'AGRICULTURE PRODUCTION AND MANAGEMENT'),\n",
       " ('Agriculture & Natural Resources', 30000, 'ANIMAL SCIENCES'),\n",
       " ('Humanities & Liberal Arts', 28000, 'ANTHROPOLOGY AND ARCHEOLOGY'),\n",
       " ('Computers & Mathematics', 45000, 'APPLIED MATHEMATICS'),\n",
       " ('Engineering', 54000, 'ARCHITECTURAL ENGINEERING'),\n",
       " ('Engineering', 40000, 'ARCHITECTURE'),\n",
       " ('Humanities & Liberal Arts', 35000, 'AREA ETHNIC AND CIVILIZATION STUDIES'),\n",
       " ('Education', 32100, 'ART AND MUSIC EDUCATION'),\n",
       " ('Humanities & Liberal Arts', 31000, 'ART HISTORY AND CRITICISM'),\n",
       " ('Physical Sciences', 62000, 'ASTRONOMY AND ASTROPHYSICS'),\n",
       " ('Physical Sciences', 35000, 'ATMOSPHERIC SCIENCES AND METEOROLOGY'),\n",
       " ('Biology & Life Science', 37400, 'BIOCHEMICAL SCIENCES'),\n",
       " ('Engineering', 57100, 'BIOLOGICAL ENGINEERING'),\n",
       " ('Biology & Life Science', 33400, 'BIOLOGY'),\n",
       " ('Engineering', 60000, 'BIOMEDICAL ENGINEERING')]"
      ]
     },
     "execution_count": 29,
     "metadata": {},
     "output_type": "execute_result"
    }
   ],
   "source": [
    "# order by multiple columns\n",
    "conn.execute('''\n",
    "    SELECT Major_category,Median,Major\n",
    "    FROM recent_grads\n",
    "    ORDER BY Major asc,Median desc\n",
    "    LIMIT 20''').fetchall()"
   ]
  },
  {
   "cell_type": "markdown",
   "metadata": {},
   "source": [
    "# SQL Summary Statistics\n",
    "There are several ways to do summary statistics using python and SQL. One approach would be to use python to query the database, retrieve the results and store it as a list and then write code to do the desired summary statistics. While this approach works, it requires quite a bit of code, and it's also fairly slow. Another way would be to do the summary statistics on the database using SQL.It's often advantageous to do these computations in the SQL database instead of a Python environment because it's faster to code and execute. \n",
    "\n",
    "We'll be working with factbook.db, a SQLite database containing information about every country in the world. We'll use a table in the file called facts. Each row in facts represents a single country and contains several columns, including:\n",
    "\n",
    " - name - The name of the country\n",
    " - area - The total land and sea area of the country\n",
    " - population - The country's population\n",
    " - birth_rate - The country's birth rate\n",
    " - created_at - The date the record was created\n",
    " - updated_at - The date the record was updated"
   ]
  },
  {
   "cell_type": "code",
   "execution_count": 32,
   "metadata": {},
   "outputs": [
    {
     "data": {
      "text/plain": [
       "[(1,\n",
       "  'af',\n",
       "  'Afghanistan',\n",
       "  652230,\n",
       "  652230,\n",
       "  0,\n",
       "  32564342,\n",
       "  2.32,\n",
       "  38.57,\n",
       "  13.89,\n",
       "  1.51,\n",
       "  '2015-11-01 13:19:49.461734',\n",
       "  '2015-11-01 13:19:49.461734'),\n",
       " (2,\n",
       "  'al',\n",
       "  'Albania',\n",
       "  28748,\n",
       "  27398,\n",
       "  1350,\n",
       "  3029278,\n",
       "  0.3,\n",
       "  12.92,\n",
       "  6.58,\n",
       "  3.3,\n",
       "  '2015-11-01 13:19:54.431082',\n",
       "  '2015-11-01 13:19:54.431082')]"
      ]
     },
     "execution_count": 32,
     "metadata": {},
     "output_type": "execute_result"
    }
   ],
   "source": [
    "import sqlite3\n",
    "\n",
    "conn = sqlite3.connect(\"factbook.db\")\n",
    "facts = facts = conn.execute(\"SELECT * FROM facts\").fetchall()\n",
    "facts[0:2]"
   ]
  },
  {
   "cell_type": "markdown",
   "metadata": {},
   "source": [
    "# COUNT \n",
    "To count the number of records in a table using python, we would connect to the database, fetch all the records on the table we are intereted in as a list and the use len() function to count the number of records in that table as shown below.\n",
    "\n",
    "facts = conn.execute(\"SELECT * FROM facts\").fetchall()\n",
    "\n",
    "facts_count = len(facts)\n",
    "\n",
    "This approach is uses more code and is fairly as fetches all the records in the table before using the len(). SQL COUNT aggregation function can be used to this in a more efficient way as shown below.\n",
    "\n",
    "SELECT COUNT(*) FROM facts;"
   ]
  },
  {
   "cell_type": "code",
   "execution_count": 35,
   "metadata": {},
   "outputs": [
    {
     "data": {
      "text/plain": [
       "228"
      ]
     },
     "execution_count": 35,
     "metadata": {},
     "output_type": "execute_result"
    }
   ],
   "source": [
    "conn.execute('SELECT COUNT(birth_rate) FROM facts').fetchone()[0]"
   ]
  },
  {
   "cell_type": "code",
   "execution_count": 40,
   "metadata": {},
   "outputs": [
    {
     "data": {
      "text/plain": [
       "228"
      ]
     },
     "execution_count": 40,
     "metadata": {},
     "output_type": "execute_result"
    }
   ],
   "source": [
    "# python version \n",
    "birth_rate = conn.execute(\"SELECT birth_rate FROM facts WHERE birth_rate IS NOT NULL\").fetchall() \n",
    "len(birth_rate)"
   ]
  },
  {
   "cell_type": "markdown",
   "metadata": {},
   "source": [
    "Note that to get the same result in python version a WHERE clause to filter NULL values is used, which is not require in COUNT aggregate function. COUNT is smart enough to exclude missing values."
   ]
  },
  {
   "cell_type": "code",
   "execution_count": 43,
   "metadata": {},
   "outputs": [
    {
     "data": {
      "text/plain": [
       "261"
      ]
     },
     "execution_count": 43,
     "metadata": {},
     "output_type": "execute_result"
    }
   ],
   "source": [
    "# whithout WHERE clause\n",
    "len(conn.execute(\"SELECT birth_rate FROM facts\").fetchall())"
   ]
  },
  {
   "cell_type": "markdown",
   "metadata": {},
   "source": [
    "# MAX, MIN, AVG, SUM\n",
    "SQL has other aggregation functions, in addition to COUNT. MIN and MAX, for example, find the minimum and maximum values in a column. While SUM and AVG can be used to get the sum and average values of data in a column."
   ]
  },
  {
   "cell_type": "code",
   "execution_count": 44,
   "metadata": {},
   "outputs": [
    {
     "data": {
      "text/plain": [
       "0.0"
      ]
     },
     "execution_count": 44,
     "metadata": {},
     "output_type": "execute_result"
    }
   ],
   "source": [
    "# MIN\n",
    "conn.execute('SELECT MIN(population_growth) FROM facts WHERE population_growth !=\"\"').fetchone()[0]"
   ]
  },
  {
   "cell_type": "code",
   "execution_count": 45,
   "metadata": {},
   "outputs": [
    {
     "data": {
      "text/plain": [
       "14.89"
      ]
     },
     "execution_count": 45,
     "metadata": {},
     "output_type": "execute_result"
    }
   ],
   "source": [
    "# MAX\n",
    "conn.execute('SELECT MAX(death_rate) FROM facts WHERE death_rate !=\"\"').fetchone()[0]"
   ]
  },
  {
   "cell_type": "code",
   "execution_count": 46,
   "metadata": {},
   "outputs": [
    {
     "data": {
      "text/plain": [
       "128584834"
      ]
     },
     "execution_count": 46,
     "metadata": {},
     "output_type": "execute_result"
    }
   ],
   "source": [
    "# SUM \n",
    "conn.execute('SELECT SUM(area_land) FROM facts WHERE area_land != \"\"').fetchone()[0]"
   ]
  },
  {
   "cell_type": "code",
   "execution_count": 47,
   "metadata": {},
   "outputs": [
    {
     "data": {
      "text/plain": [
       "19067.59259259259"
      ]
     },
     "execution_count": 47,
     "metadata": {},
     "output_type": "execute_result"
    }
   ],
   "source": [
    "# AVG\n",
    "conn.execute('SELECT AVG(area_water) FROM facts WHERE area_water != \"\"').fetchone()[0]"
   ]
  },
  {
   "cell_type": "markdown",
   "metadata": {},
   "source": [
    "Write a single query that calculates the following statistics about the facts table:\n",
    " - The mean of the population column, assign to mean_pop.\n",
    " - The sum of the population column, assign to sum_pop.\n",
    " - The maximum value in the birth_rate column, max_birth_rate."
   ]
  },
  {
   "cell_type": "code",
   "execution_count": 48,
   "metadata": {
    "collapsed": true
   },
   "outputs": [],
   "source": [
    "result = conn.execute(\"SELECT AVG(population), SUM(population), MAX(birth_rate) FROM facts\").fetchall()\n",
    "mean_pop = result[0][0]\n",
    "sum_pop = result[0][1]\n",
    "max_birth_rate = result[0][2]"
   ]
  },
  {
   "cell_type": "code",
   "execution_count": 50,
   "metadata": {},
   "outputs": [
    {
     "data": {
      "text/plain": [
       "62094928.32231405"
      ]
     },
     "execution_count": 50,
     "metadata": {},
     "output_type": "execute_result"
    }
   ],
   "source": [
    "mean_pop"
   ]
  },
  {
   "cell_type": "markdown",
   "metadata": {},
   "source": [
    "# DISTINCT\n",
    "The SQL DISTINCT clause is used to remove duplicates from the result set of a SELECT statement\n",
    "\n",
    "SELECT DISTINCT expressions\n",
    "FROM tables\n",
    "[WHERE conditions];"
   ]
  },
  {
   "cell_type": "code",
   "execution_count": 53,
   "metadata": {},
   "outputs": [
    {
     "data": {
      "text/plain": [
       "[(38.57,),\n",
       " (12.92,),\n",
       " (23.67,),\n",
       " (8.13,),\n",
       " (38.78,),\n",
       " (15.85,),\n",
       " (16.64,),\n",
       " (13.61,),\n",
       " (12.15,),\n",
       " (9.41,),\n",
       " (15.5,),\n",
       " (13.66,),\n",
       " (21.14,),\n",
       " (11.87,),\n",
       " (10.7,),\n",
       " (11.41,),\n",
       " (24.68,),\n",
       " (36.02,),\n",
       " (17.78,),\n",
       " (22.76,)]"
      ]
     },
     "execution_count": 53,
     "metadata": {},
     "output_type": "execute_result"
    }
   ],
   "source": [
    "conn.execute(\"SELECT DISTINCT birth_rate FROM facts LIMIT 20\").fetchall()"
   ]
  },
  {
   "cell_type": "code",
   "execution_count": 54,
   "metadata": {},
   "outputs": [
    {
     "data": {
      "text/plain": [
       "20.43473684210527"
      ]
     },
     "execution_count": 54,
     "metadata": {},
     "output_type": "execute_result"
    }
   ],
   "source": [
    "# Using DISTICNT and Aggregate function\n",
    "conn.execute(\"SELECT AVG(DISTINCT birth_rate) FROM facts WHERE population > 20000000\").fetchone()[0]"
   ]
  },
  {
   "cell_type": "markdown",
   "metadata": {},
   "source": [
    "# USing SQL to perform calcualtion\n",
    "To calculate the ratio between births and deaths for each country, for example, we could divide the birth_rate column by the death_rate column. Here's how we would accomplish this:\n",
    "\n",
    "SELECT birth_rate / death_rate \n",
    "FROM facts;\n",
    "\n",
    "We can also perform more complex queries, such as finding the ratio of birth_rate plus migration_rate to death_rate. The results will help us discover whether the population is increasing or decreasing:\n",
    "\n",
    "SELECT (birth_rate + migration_rate) / death_rate \n",
    "FROM facts;\n",
    "\n"
   ]
  },
  {
   "cell_type": "code",
   "execution_count": 55,
   "metadata": {
    "collapsed": true
   },
   "outputs": [],
   "source": [
    "next_year_population = conn.execute(\"SELECT (1 + population_growth/100)*population FROM facts\").fetchall()"
   ]
  },
  {
   "cell_type": "code",
   "execution_count": 57,
   "metadata": {},
   "outputs": [
    {
     "data": {
      "text/plain": [
       "[(33319834.734400004,),\n",
       " (3038365.834,),\n",
       " (40269741.8544,),\n",
       " (85682.69600000001,),\n",
       " (20170937.8134,),\n",
       " (93582.2064,),\n",
       " (43835802.5398,),\n",
       " (3060966.5730000003,),\n",
       " (22994449.849799998,),\n",
       " (8713210.525,)]"
      ]
     },
     "execution_count": 57,
     "metadata": {},
     "output_type": "execute_result"
    }
   ],
   "source": [
    "next_year_population[0:10]"
   ]
  },
  {
   "cell_type": "markdown",
   "metadata": {},
   "source": [
    "# Group Summary Statistics\n",
    "Previously we computed summary statistics across columns with SQL. In many cases, though, we want to drill down even more and compute summary statistics per group. The SQL GROUP BY clause can be used in a SELECT statement to collect data across multiple records and group the results by one or more columns.\n",
    "\n",
    "The syntax for the GROUP BY clause in SQL is:\n",
    "\n",
    "SELECT expression1, expression2, ... expression_n, \n",
    "       aggregate_function (aggregate_expression)\n",
    "FROM tables\n",
    "[WHERE conditions]\n",
    "GROUP BY expression1, expression2, ... expression_n\n",
    "[ORDER BY expression [ ASC | DESC ]];\n",
    "\n",
    "For example to fetch average ShareWomen for each Major_category the code below can be used"
   ]
  },
  {
   "cell_type": "code",
   "execution_count": 60,
   "metadata": {},
   "outputs": [
    {
     "data": {
      "text/plain": [
       "[('Agriculture & Natural Resources', 0.6179384232),\n",
       " ('Arts', 0.56185119575),\n",
       " ('Biology & Life Science', 0.584518475857143),\n",
       " ('Business', 0.4050631853076923),\n",
       " ('Communications & Journalism', 0.64383484025),\n",
       " ('Computers & Mathematics', 0.5127519954545455),\n",
       " ('Education', 0.6749855163125),\n",
       " ('Engineering', 0.2571578951034483),\n",
       " ('Health', 0.6168565694166667),\n",
       " ('Humanities & Liberal Arts', 0.6761934042),\n",
       " ('Industrial Arts & Consumer Services', 0.4493512688571429),\n",
       " ('Interdisciplinary', 0.495397153),\n",
       " ('Law & Public Policy', 0.3359896912),\n",
       " ('Physical Sciences', 0.5087494197),\n",
       " ('Psychology & Social Work', 0.7777631628888888),\n",
       " ('Social Science', 0.5390672957777778)]"
      ]
     },
     "execution_count": 60,
     "metadata": {},
     "output_type": "execute_result"
    }
   ],
   "source": [
    "conn = sqlite3.connect(\"jobs.db\")\n",
    "conn.execute('''\n",
    "    SELECT Major_category, AVG(ShareWomen) \n",
    "    FROM recent_grads\n",
    "    GROUP BY Major_category  \n",
    "''').fetchall()"
   ]
  },
  {
   "cell_type": "markdown",
   "metadata": {},
   "source": [
    "Write a query that selects the following items, in order, and renames them with AS:\n",
    " - SUM(Men) as total_men.\n",
    " - SUM(Women) as total_women\n",
    " \n",
    "SELECT SUM(men) AS total_men, SUM(Women) AS total_women \n",
    "FROM recent_grads;"
   ]
  },
  {
   "cell_type": "code",
   "execution_count": 66,
   "metadata": {},
   "outputs": [],
   "source": [
    "result = conn.execute('''\n",
    "    SELECT SUM(men), SUM(Women)\n",
    "    FROM recent_grads \n",
    "''').fetchone()\n",
    "total_men,total_women = result"
   ]
  },
  {
   "cell_type": "code",
   "execution_count": 67,
   "metadata": {},
   "outputs": [
    {
     "data": {
      "text/plain": [
       "2878263"
      ]
     },
     "execution_count": 67,
     "metadata": {},
     "output_type": "execute_result"
    }
   ],
   "source": [
    "total_men"
   ]
  },
  {
   "cell_type": "code",
   "execution_count": 68,
   "metadata": {},
   "outputs": [
    {
     "data": {
      "text/plain": [
       "3897752"
      ]
     },
     "execution_count": 68,
     "metadata": {},
     "output_type": "execute_result"
    }
   ],
   "source": [
    "total_women"
   ]
  },
  {
   "cell_type": "markdown",
   "metadata": {},
   "source": [
    "# HAVING clause\n",
    "The SQL HAVING clause is used in combination with the GROUP BY clause to restrict the groups of returned rows to only those whose the condition is TRUE.\n",
    "\n",
    "The syntax for the HAVING clause in SQL is:\n",
    "\n",
    " SELECT expression1, expression2, ... expression_n, \n",
    "       aggregate_function (aggregate_expression)\n",
    " FROM tables\n",
    " [WHERE conditions]\n",
    " GROUP BY expression1, expression2, ... expression_n\n",
    " HAVING condition;\n",
    " \n",
    "Example HAVING clause can be used to Find all of the major categories where the share of graduates with low-wage jobs is greater than 0.1 as shown below."
   ]
  },
  {
   "cell_type": "code",
   "execution_count": 69,
   "metadata": {},
   "outputs": [
    {
     "data": {
      "text/plain": [
       "[('Arts', 0.16833085991095678),\n",
       " ('Communications & Journalism', 0.1263241815481876),\n",
       " ('Humanities & Liberal Arts', 0.13208721344194835),\n",
       " ('Industrial Arts & Consumer Services', 0.11571334076033978),\n",
       " ('Law & Public Policy', 0.11568503743572278),\n",
       " ('Psychology & Social Work', 0.11693384919554187),\n",
       " ('Social Science', 0.10223297343603174)]"
      ]
     },
     "execution_count": 69,
     "metadata": {},
     "output_type": "execute_result"
    }
   ],
   "source": [
    "conn.execute('''\n",
    "    SELECT Major_category, AVG(Low_wage_jobs) / AVG(Total) as share_low_wage\n",
    "    FROM recent_grads\n",
    "    GROUP BY Major_category\n",
    "    HAVING share_low_wage > 0.1\n",
    "''').fetchall()"
   ]
  },
  {
   "cell_type": "markdown",
   "metadata": {},
   "source": [
    "# ROUND\n",
    "SQL ROUND function can be used to round result."
   ]
  },
  {
   "cell_type": "code",
   "execution_count": 70,
   "metadata": {},
   "outputs": [
    {
     "data": {
      "text/plain": [
       "[(0.1206, 'Engineering'),\n",
       " (0.1019, 'Engineering'),\n",
       " (0.153, 'Engineering'),\n",
       " (0.1073, 'Engineering'),\n",
       " (0.3416, 'Engineering'),\n",
       " (0.145, 'Engineering'),\n",
       " (0.5357, 'Business'),\n",
       " (0.4414, 'Physical Sciences'),\n",
       " (0.1398, 'Engineering'),\n",
       " (0.4378, 'Engineering')]"
      ]
     },
     "execution_count": 70,
     "metadata": {},
     "output_type": "execute_result"
    }
   ],
   "source": [
    "# ShareWomen rounded to 4 decimal places\n",
    "conn.execute('''\n",
    "    SELECT ROUND(ShareWomen, 4),Major_category \n",
    "    FROM recent_grads \n",
    "    LIMIT 10;\n",
    "''').fetchall()"
   ]
  },
  {
   "cell_type": "code",
   "execution_count": 71,
   "metadata": {},
   "outputs": [
    {
     "data": {
      "text/plain": [
       "[('Agriculture & Natural Resources', 0.248),\n",
       " ('Arts', 0.265),\n",
       " ('Business', 0.114),\n",
       " ('Communications & Journalism', 0.22),\n",
       " ('Humanities & Liberal Arts', 0.27),\n",
       " ('Industrial Arts & Consumer Services', 0.249),\n",
       " ('Law & Public Policy', 0.163),\n",
       " ('Social Science', 0.215)]"
      ]
     },
     "execution_count": 71,
     "metadata": {},
     "output_type": "execute_result"
    }
   ],
   "source": [
    "# more complex query with ROUND function\n",
    "conn.execute('''\n",
    "    SELECT Major_category, ROUND(AVG(College_jobs) / AVG(Total), 3) AS share_degree_jobs\n",
    "    FROM recent_grads\n",
    "    GROUP BY Major_category\n",
    "    HAVING share_degree_jobs < 0.3\n",
    "''').fetchall()"
   ]
  },
  {
   "cell_type": "markdown",
   "metadata": {},
   "source": [
    "# Challenge: Data Exploration\n",
    "Write a single query that returns the following minimum and maximum values for countries where population is less than 2 billion and population is greater than 0:\n",
    " - Assign the minimum of the population column to pop_min.\n",
    " - Assign the maximum of the population column to pop_max.\n",
    " - Assign the minimum of the population_growth column to pop_growth_min.\n",
    " - Assign the maximum of the population_growth column to pop_growth_max.\n",
    " - Assign the minimum of the birth_rate column to birth_rate_min.\n",
    " - Assign the maximum of the birth_rate column to birth_rate_max.\n",
    " - Assign the minimum of the death_rate column to death_rate_min.\n",
    " - Assign the maximum of the death_rate column to death_rate_max."
   ]
  },
  {
   "cell_type": "code",
   "execution_count": 72,
   "metadata": {
    "collapsed": true
   },
   "outputs": [],
   "source": [
    "# Solution\n",
    "conn = sqlite3.connect(\"factbook.db\")\n",
    "query = \"select min(population), max(population),min(population_growth), max(population_growth),min(birth_rate), max(birth_rate),min(death_rate), max(death_rate),min(migration_rate),max(migration_rate) from facts where population < 2000000000 and population > 0;\"\n",
    "results = conn.execute(query).fetchone()\n",
    "pop_min = results[0]\n",
    "pop_max = results[1]\n",
    "pop_growth_min = results[2]\n",
    "pop_growth_max = results[3]\n",
    "birth_rate_min = results[4]\n",
    "birth_rate_max = results[5]\n",
    "dhttp://localhost:8888/notebooks/SQL_python.ipynb#Challenge-2eath_rate_min = results[6]\n",
    "death_rate_max = results[7]"
   ]
  },
  {
   "cell_type": "code",
   "execution_count": 73,
   "metadata": {},
   "outputs": [
    {
     "data": {
      "text/plain": [
       "1367485388"
      ]
     },
     "execution_count": 73,
     "metadata": {},
     "output_type": "execute_result"
    }
   ],
   "source": [
    "pop_max"
   ]
  },
  {
   "cell_type": "markdown",
   "metadata": {},
   "source": [
    "# Challenge 2\n",
    "projected_population = population + (population * (population_growth/100))\n",
    "Use SQL arithmetic to return the projected population values using the above formula and the following parameters:\n",
    " - Round the values to the nearest whole number (population can't contain a fractional value).\n",
    " - Filter out any rows with NULL as the value for either population or population_growth.\n",
    " - Restrict the query to countries with a population that's less than 7 billion and greater than 0.\n",
    " - Assign the resulting projections to projected_population."
   ]
  },
  {
   "cell_type": "code",
   "execution_count": 79,
   "metadata": {
    "collapsed": true
   },
   "outputs": [],
   "source": [
    "query = '''\n",
    "SELECT ROUND(population + population * (population_growth/100), 0) FROM facts\n",
    "WHERE population > 0 AND population < 7000000000 \n",
    "AND population IS NOT NULL AND population_growth IS NOT NULL;\n",
    "'''\n",
    "projected_population = conn.execute(query).fetchall()"
   ]
  },
  {
   "cell_type": "code",
   "execution_count": 78,
   "metadata": {},
   "outputs": [
    {
     "data": {
      "text/plain": [
       "[(33319835.0,),\n",
       " (3038366.0,),\n",
       " (40269742.0,),\n",
       " (85683.0,),\n",
       " (20170938.0,),\n",
       " (93582.0,),\n",
       " (43835803.0,),\n",
       " (3060967.0,),\n",
       " (22994450.0,),\n",
       " (8713211.0,),\n",
       " (9874675.0,),\n",
       " (327356.0,),\n",
       " (1379066.0,),\n",
       " (171661069.0,),\n",
       " (291505.0,),\n",
       " (9608868.0,),\n",
       " (11410035.0,),\n",
       " (353865.0,),\n",
       " (10739119.0,),\n",
       " (750154.0,)]"
      ]
     },
     "execution_count": 78,
     "metadata": {},
     "output_type": "execute_result"
    }
   ],
   "source": [
    "projected_population[0:20]"
   ]
  },
  {
   "cell_type": "markdown",
   "metadata": {},
   "source": [
    " # Challenge 3\n",
    "Write a single query that returns:\n",
    " - the minimum of the projected population values, and assigns it to pop_proj_min.\n",
    " - the maximum of the projected population values, and assigns it to pop_proj_max.\n",
    " - the average of the projected population values, and assigns it to pop_proj_avg.\n",
    "\n",
    "Be sure to:\n",
    " - Round all fractional values to the nearest whole number.\n",
    " - Filter out any rows with NULL as the value for either population or population_growth.\n",
    " - Restrict the query to countries with a population of less than 7 billion and greater than 0.\n",
    " - Use print statements or the variables display below the output box to observe these values.   "
   ]
  },
  {
   "cell_type": "code",
   "execution_count": 80,
   "metadata": {
    "collapsed": true
   },
   "outputs": [],
   "source": [
    "query = '''\n",
    "SELECT MIN(ROUND(population + population * (population_growth/100), 0)), \n",
    "MAX(ROUND(population + population * (population_growth/100), 0)),\n",
    "AVG(round(population + population * (population_growth/100), 0)) from facts\n",
    "WHERE population > 0 AND population < 7000000000 \n",
    "AND population IS NOT NULL AND population_growth IS NOT NULL;\n",
    "'''\n",
    "projected_population = conn.execute(query).fetchone()\n",
    "pop_proj_min = projected_population[0]\n",
    "pop_proj_max = projected_population[1]\n",
    "pop_proj_avg = projected_population[2]"
   ]
  },
  {
   "cell_type": "code",
   "execution_count": 81,
   "metadata": {},
   "outputs": [
    {
     "data": {
      "text/plain": [
       "48.0"
      ]
     },
     "execution_count": 81,
     "metadata": {},
     "output_type": "execute_result"
    }
   ],
   "source": [
    "pop_proj_min"
   ]
  },
  {
   "cell_type": "code",
   "execution_count": null,
   "metadata": {
    "collapsed": true
   },
   "outputs": [],
   "source": []
  }
 ],
 "metadata": {
  "kernelspec": {
   "display_name": "Python 3",
   "language": "python",
   "name": "python3"
  },
  "language_info": {
   "codemirror_mode": {
    "name": "ipython",
    "version": 3
   },
   "file_extension": ".py",
   "mimetype": "text/x-python",
   "name": "python",
   "nbconvert_exporter": "python",
   "pygments_lexer": "ipython3",
   "version": "3.6.1"
  }
 },
 "nbformat": 4,
 "nbformat_minor": 2
}
