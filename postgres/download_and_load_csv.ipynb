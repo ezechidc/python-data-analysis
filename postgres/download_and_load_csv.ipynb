{
 "cells": [
  {
   "cell_type": "code",
   "execution_count": 70,
   "metadata": {
    "collapsed": true
   },
   "outputs": [],
   "source": [
    "import csv\n",
    "import psycopg2\n",
    "import requests\n",
    "from datetime import date"
   ]
  },
  {
   "cell_type": "markdown",
   "metadata": {},
   "source": [
    "# PSQL \n",
    "Install postgres by running \n",
    "```bash\n",
    " sudo apt-get update\n",
    " sudo apt-get install postgresql postgresql-contrib\n",
    "```\n",
    "Edit the file /etc/postgresql/<version>/main/pg_hba.conf and find the following line:\n",
    "```\n",
    "local   all             postgres                  md5\n",
    "change it to:\n",
    "local   all             postgres                 trust\n",
    " ```\n",
    "Edith postgresql.conf and and listen_addresses = '*\n",
    "```bash\n",
    "sudo nano /etc/postgresql/9.5/main/postgresql.conf\n",
    "listen_addresses = '*' \n",
    "sudo service postgresql reload\n",
    "```\n",
    "After that reload postgres by running\n",
    "```bash\n",
    "sudo service postgresql reload\n",
    "```\n",
    "## Login to postgres and create user and database\n",
    "Postgres installation created a user account called postgres that is associated with the default Postgres role. In order to use Postgres, we can log into that account.This can be done as shown below:\n",
    "```bash\n",
    "sudo -i -u postgres\n",
    "```\n",
    "You can now access a Postgres prompt immediately by typing:\n",
    "```bash\n",
    "psql\n",
    "```\n",
    "you can exit the interactive Postgres session by typing:\n",
    "```bash\n",
    "postgress=# \\q\n",
    "```\n",
    "## Create a New User and database\n",
    "you can create a new user by typing:\n",
    "```sql\n",
    "CREATE USER denco WITH PASSWORD 'somepassword' NOSUPERUSER\n",
    "CREATE DATABASE denco OWNER denco\n",
    "```\n",
    "## View Database and Tables in postgres\n",
    "To view database type:\n",
    "```bash\n",
    "postgres=# \\l\n",
    "```\n",
    "To connect to a database:\n",
    "```bash\n",
    "postgres=# \\c denco\n",
    "```\n",
    "To list tables in a database:\n",
    "``` bash\n",
    "postgres=# \\l \n",
    "```"
   ]
  },
  {
   "cell_type": "code",
   "execution_count": 72,
   "metadata": {},
   "outputs": [],
   "source": [
    "conn = psycopg2.connect(\"dbname=dennis user=dennis host=127.0.0.1 password=dennis\")\n",
    "cur = conn.cursor()\n",
    "cur.execute(\"\"\"\n",
    "    CREATE TABLE ign_reviews (\n",
    "        id BIGINT PRIMARY KEY,\n",
    "        score_phrase VARCHAR(11),\n",
    "        title TEXT,\n",
    "        url TEXT,\n",
    "        platform VARCHAR(20),\n",
    "        score DECIMAL(3, 1),\n",
    "        genre TEXT,\n",
    "        editors_choice BOOLEAN,\n",
    "        release_date DATE\n",
    "    )\n",
    "\"\"\")"
   ]
  },
  {
   "cell_type": "code",
   "execution_count": 73,
   "metadata": {},
   "outputs": [],
   "source": [
    "res= requests.get(\"https://dsserver-prod-resources-1.s3.amazonaws.com/246/ign.csv\")\n",
    "decoded_res = res.content.decode('utf-8')\n",
    "reader = csv.reader(decoded_res.splitlines(), delimiter=',')\n",
    "next(reader)\n",
    "data_list = list(reader)"
   ]
  },
  {
   "cell_type": "code",
   "execution_count": 80,
   "metadata": {},
   "outputs": [
    {
     "data": {
      "text/plain": [
       "['5249979066121302517',\n",
       " 'Amazing',\n",
       " 'LittleBigPlanet PS Vita',\n",
       " '/games/littlebigplanet-vita/vita-98907',\n",
       " 'PlayStation Vita',\n",
       " '9.0',\n",
       " 'Platformer',\n",
       " 'Y',\n",
       " '2012',\n",
       " '9',\n",
       " '12']"
      ]
     },
     "execution_count": 80,
     "metadata": {},
     "output_type": "execute_result"
    }
   ],
   "source": [
    "data_list[0]"
   ]
  },
  {
   "cell_type": "code",
   "execution_count": 75,
   "metadata": {},
   "outputs": [],
   "source": [
    "for row in data_list:\n",
    "    updated_row = row[:8]\n",
    "    updated_row.append(date(int(row[8]), int(row[9]), int(row[10])))\n",
    "    cur.execute(\"INSERT INTO ign_reviews VALUES (%s, %s, %s, %s, %s, %s, %s, %s, %s)\", updated_row)\n",
    "conn.commit()"
   ]
  },
  {
   "cell_type": "code",
   "execution_count": 78,
   "metadata": {},
   "outputs": [
    {
     "data": {
      "text/plain": [
       "['5012610255156399104',\n",
       " 'Masterpiece',\n",
       " 'Inside',\n",
       " '/games/inside-playdead/pc-20055740',\n",
       " 'PC',\n",
       " '10.0',\n",
       " 'Adventure',\n",
       " 'Y',\n",
       " datetime.date(2016, 6, 28)]"
      ]
     },
     "execution_count": 78,
     "metadata": {},
     "output_type": "execute_result"
    }
   ],
   "source": [
    "updated_row"
   ]
  },
  {
   "cell_type": "code",
   "execution_count": 65,
   "metadata": {},
   "outputs": [],
   "source": [
    "cur.execute(\"SELECT * FROM ign_reviews\")\n",
    "data=cur.fetchall()"
   ]
  },
  {
   "cell_type": "code",
   "execution_count": 81,
   "metadata": {},
   "outputs": [
    {
     "data": {
      "text/plain": [
       "(5249979066121302517,\n",
       " 'Amazing',\n",
       " 'LittleBigPlanet PS Vita',\n",
       " '/games/littlebigplanet-vita/vita-98907',\n",
       " 'PlayStation Vita',\n",
       " Decimal('9.0'),\n",
       " 'Platformer',\n",
       " True,\n",
       " datetime.date(2012, 9, 12))"
      ]
     },
     "execution_count": 81,
     "metadata": {},
     "output_type": "execute_result"
    }
   ],
   "source": [
    "data[0]"
   ]
  },
  {
   "cell_type": "code",
   "execution_count": null,
   "metadata": {
    "collapsed": true
   },
   "outputs": [],
   "source": []
  }
 ],
 "metadata": {
  "kernelspec": {
   "display_name": "Python 3",
   "language": "python",
   "name": "python3"
  },
  "language_info": {
   "codemirror_mode": {
    "name": "ipython",
    "version": 3
   },
   "file_extension": ".py",
   "mimetype": "text/x-python",
   "name": "python",
   "nbconvert_exporter": "python",
   "pygments_lexer": "ipython3",
   "version": "3.6.2"
  }
 },
 "nbformat": 4,
 "nbformat_minor": 2
}
